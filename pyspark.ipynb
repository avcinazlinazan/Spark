{
 "cells": [
  {
   "cell_type": "code",
   "execution_count": 40,
   "id": "a8c64847",
   "metadata": {},
   "outputs": [],
   "source": [
    "#!pip install pyspark\n"
   ]
  },
  {
   "cell_type": "code",
   "execution_count": 1,
   "id": "16e5ad14",
   "metadata": {},
   "outputs": [],
   "source": [
    "from pyspark.sql import SparkSession"
   ]
  },
  {
   "cell_type": "code",
   "execution_count": 4,
   "id": "398b4b89",
   "metadata": {},
   "outputs": [],
   "source": [
    "spark=SparkSession.builder.appName(\"Basics\").getOrCreate()"
   ]
  },
  {
   "cell_type": "code",
   "execution_count": null,
   "id": "c1daa596",
   "metadata": {},
   "outputs": [],
   "source": [
    "df=spark.read.csv('College.csv',header=True,inferSchema=True)"
   ]
  },
  {
   "cell_type": "code",
   "execution_count": 6,
   "id": "2895e237",
   "metadata": {},
   "outputs": [
    {
     "name": "stdout",
     "output_type": "stream",
     "text": [
      "+--------------------+-------+----+------+------+---------+---------+-----------+-----------+--------+----------+-----+--------+---+--------+---------+-----------+------+---------+\n",
      "|              School|Private|Apps|Accept|Enroll|Top10perc|Top25perc|F_Undergrad|P_Undergrad|Outstate|Room_Board|Books|Personal|PhD|Terminal|S_F_Ratio|perc_alumni|Expend|Grad_Rate|\n",
      "+--------------------+-------+----+------+------+---------+---------+-----------+-----------+--------+----------+-----+--------+---+--------+---------+-----------+------+---------+\n",
      "|Abilene Christian...|    Yes|1660|  1232|   721|       23|       52|       2885|        537|    7440|      3300|  450|    2200| 70|      78|     18.1|         12|  7041|       60|\n",
      "|  Adelphi University|    Yes|2186|  1924|   512|       16|       29|       2683|       1227|   12280|      6450|  750|    1500| 29|      30|     12.2|         16| 10527|       56|\n",
      "|      Adrian College|    Yes|1428|  1097|   336|       22|       50|       1036|         99|   11250|      3750|  400|    1165| 53|      66|     12.9|         30|  8735|       54|\n",
      "| Agnes Scott College|    Yes| 417|   349|   137|       60|       89|        510|         63|   12960|      5450|  450|     875| 92|      97|      7.7|         37| 19016|       59|\n",
      "|Alaska Pacific Un...|    Yes| 193|   146|    55|       16|       44|        249|        869|    7560|      4120|  800|    1500| 76|      72|     11.9|          2| 10922|       15|\n",
      "|   Albertson College|    Yes| 587|   479|   158|       38|       62|        678|         41|   13500|      3335|  500|     675| 67|      73|      9.4|         11|  9727|       55|\n",
      "|Albertus Magnus C...|    Yes| 353|   340|   103|       17|       45|        416|        230|   13290|      5720|  500|    1500| 90|      93|     11.5|         26|  8861|       63|\n",
      "|      Albion College|    Yes|1899|  1720|   489|       37|       68|       1594|         32|   13868|      4826|  450|     850| 89|     100|     13.7|         37| 11487|       73|\n",
      "|    Albright College|    Yes|1038|   839|   227|       30|       63|        973|        306|   15595|      4400|  300|     500| 79|      84|     11.3|         23| 11644|       80|\n",
      "|Alderson-Broaddus...|    Yes| 582|   498|   172|       21|       44|        799|         78|   10468|      3380|  660|    1800| 40|      41|     11.5|         15|  8991|       52|\n",
      "|   Alfred University|    Yes|1732|  1425|   472|       37|       75|       1830|        110|   16548|      5406|  500|     600| 82|      88|     11.3|         31| 10932|       73|\n",
      "|   Allegheny College|    Yes|2652|  1900|   484|       44|       77|       1707|         44|   17080|      4440|  400|     600| 73|      91|      9.9|         41| 11711|       76|\n",
      "|Allentown Coll. o...|    Yes|1179|   780|   290|       38|       64|       1130|        638|    9690|      4785|  600|    1000| 60|      84|     13.3|         21|  7940|       74|\n",
      "|        Alma College|    Yes|1267|  1080|   385|       44|       73|       1306|         28|   12572|      4552|  400|     400| 79|      87|     15.3|         32|  9305|       68|\n",
      "|     Alverno College|    Yes| 494|   313|   157|       23|       46|       1317|       1235|    8352|      3640|  650|    2449| 36|      69|     11.1|         26|  8127|       55|\n",
      "|American Internat...|    Yes|1420|  1093|   220|        9|       22|       1018|        287|    8700|      4780|  450|    1400| 78|      84|     14.7|         19|  7355|       69|\n",
      "|     Amherst College|    Yes|4302|   992|   418|       83|       96|       1593|          5|   19760|      5300|  660|    1598| 93|      98|      8.4|         63| 21424|      100|\n",
      "| Anderson University|    Yes|1216|   908|   423|       19|       40|       1819|        281|   10100|      3520|  550|    1100| 48|      61|     12.1|         14|  7994|       59|\n",
      "|  Andrews University|    Yes|1130|   704|   322|       14|       23|       1586|        326|    9996|      3090|  900|    1320| 62|      66|     11.5|         18| 10908|       46|\n",
      "|Angelo State Univ...|     No|3540|  2001|  1016|       24|       54|       4190|       1512|    5130|      3592|  500|    2000| 60|      62|     23.1|          5|  4010|       34|\n",
      "+--------------------+-------+----+------+------+---------+---------+-----------+-----------+--------+----------+-----+--------+---+--------+---------+-----------+------+---------+\n",
      "only showing top 20 rows\n"
     ]
    }
   ],
   "source": [
    "df.show()"
   ]
  },
  {
   "cell_type": "code",
   "execution_count": 7,
   "id": "dbd9f50d",
   "metadata": {},
   "outputs": [
    {
     "name": "stdout",
     "output_type": "stream",
     "text": [
      "root\n",
      " |-- School: string (nullable = true)\n",
      " |-- Private: string (nullable = true)\n",
      " |-- Apps: integer (nullable = true)\n",
      " |-- Accept: integer (nullable = true)\n",
      " |-- Enroll: integer (nullable = true)\n",
      " |-- Top10perc: integer (nullable = true)\n",
      " |-- Top25perc: integer (nullable = true)\n",
      " |-- F_Undergrad: integer (nullable = true)\n",
      " |-- P_Undergrad: integer (nullable = true)\n",
      " |-- Outstate: integer (nullable = true)\n",
      " |-- Room_Board: integer (nullable = true)\n",
      " |-- Books: integer (nullable = true)\n",
      " |-- Personal: integer (nullable = true)\n",
      " |-- PhD: integer (nullable = true)\n",
      " |-- Terminal: integer (nullable = true)\n",
      " |-- S_F_Ratio: double (nullable = true)\n",
      " |-- perc_alumni: integer (nullable = true)\n",
      " |-- Expend: integer (nullable = true)\n",
      " |-- Grad_Rate: integer (nullable = true)\n",
      "\n"
     ]
    }
   ],
   "source": [
    "df.printSchema()"
   ]
  },
  {
   "cell_type": "code",
   "execution_count": 8,
   "id": "3ca13d66",
   "metadata": {},
   "outputs": [
    {
     "data": {
      "text/plain": [
       "['School',\n",
       " 'Private',\n",
       " 'Apps',\n",
       " 'Accept',\n",
       " 'Enroll',\n",
       " 'Top10perc',\n",
       " 'Top25perc',\n",
       " 'F_Undergrad',\n",
       " 'P_Undergrad',\n",
       " 'Outstate',\n",
       " 'Room_Board',\n",
       " 'Books',\n",
       " 'Personal',\n",
       " 'PhD',\n",
       " 'Terminal',\n",
       " 'S_F_Ratio',\n",
       " 'perc_alumni',\n",
       " 'Expend',\n",
       " 'Grad_Rate']"
      ]
     },
     "execution_count": 8,
     "metadata": {},
     "output_type": "execute_result"
    }
   ],
   "source": [
    "df.columns"
   ]
  },
  {
   "cell_type": "code",
   "execution_count": 9,
   "id": "e99a43a7",
   "metadata": {},
   "outputs": [
    {
     "data": {
      "text/plain": [
       "DataFrame[summary: string, School: string, Private: string, Apps: string, Accept: string, Enroll: string, Top10perc: string, Top25perc: string, F_Undergrad: string, P_Undergrad: string, Outstate: string, Room_Board: string, Books: string, Personal: string, PhD: string, Terminal: string, S_F_Ratio: string, perc_alumni: string, Expend: string, Grad_Rate: string]"
      ]
     },
     "execution_count": 9,
     "metadata": {},
     "output_type": "execute_result"
    }
   ],
   "source": [
    "df.describe()"
   ]
  },
  {
   "cell_type": "code",
   "execution_count": 10,
   "id": "a0ed0799",
   "metadata": {},
   "outputs": [
    {
     "name": "stdout",
     "output_type": "stream",
     "text": [
      "+-------+--------------------+-------+------------------+------------------+----------------+------------------+------------------+-----------------+-----------------+------------------+------------------+------------------+------------------+------------------+------------------+------------------+------------------+----------------+------------------+\n",
      "|summary|              School|Private|              Apps|            Accept|          Enroll|         Top10perc|         Top25perc|      F_Undergrad|      P_Undergrad|          Outstate|        Room_Board|             Books|          Personal|               PhD|          Terminal|         S_F_Ratio|       perc_alumni|          Expend|         Grad_Rate|\n",
      "+-------+--------------------+-------+------------------+------------------+----------------+------------------+------------------+-----------------+-----------------+------------------+------------------+------------------+------------------+------------------+------------------+------------------+------------------+----------------+------------------+\n",
      "|  count|                 777|    777|               777|               777|             777|               777|               777|              777|              777|               777|               777|               777|               777|               777|               777|               777|               777|             777|               777|\n",
      "|   mean|                NULL|   NULL|3001.6383526383524|2018.8043758043757|779.972972972973| 27.55855855855856|  55.7966537966538|3699.907335907336|855.2985842985843| 10440.66924066924| 4357.526383526383| 549.3809523809524|1340.6422136422136| 72.66023166023166| 79.70270270270271|14.089703989703986|22.743886743886744|9660.17117117117| 65.46332046332046|\n",
      "| stddev|                NULL|   NULL|3870.2014844352884|  2451.11397099263| 929.17619013287|17.640364385452134|19.804777595131373|4850.420530887386|1522.431887295513|4023.0164841119727|1096.6964155935289|165.10536013709253|  677.071453590578|16.328154687939314|14.722358527903374|3.9583491352055478| 12.39180148937615|5221.76843985609|17.177709897155403|\n",
      "|    min|Abilene Christian...|     No|                81|                72|              35|                 1|                 9|              139|                1|              2340|              1780|                96|               250|                 8|                24|               2.5|                 0|            3186|                10|\n",
      "|    max|York College of P...|    Yes|             48094|             26330|            6392|                96|               100|            31643|            21836|             21700|              8124|              2340|              6800|               103|               100|              39.8|                64|           56233|               118|\n",
      "+-------+--------------------+-------+------------------+------------------+----------------+------------------+------------------+-----------------+-----------------+------------------+------------------+------------------+------------------+------------------+------------------+------------------+------------------+----------------+------------------+\n",
      "\n"
     ]
    }
   ],
   "source": [
    "df.describe().show()"
   ]
  },
  {
   "cell_type": "code",
   "execution_count": null,
   "id": "6d1ee3a3",
   "metadata": {},
   "outputs": [],
   "source": [
    "from pyspark.sql.types import (StructType, StructField, \n",
    "                               StringType, IntegerType, FloatType)"
   ]
  },
  {
   "cell_type": "code",
   "execution_count": 12,
   "id": "4c75ff5f",
   "metadata": {},
   "outputs": [],
   "source": [
    "data_schema = [StructField(\"University Name\", StringType(), True),\n",
    "               StructField(\"Year\", IntegerType(), True),\n",
    "               StructField(\"Apps\", IntegerType(), True),\n",
    "               StructField(\"Accept\", IntegerType(), True),\n",
    "                \n",
    "                StructField(\"Enroll\", IntegerType(), True),\n",
    "                StructField(\"Top10perc\", IntegerType(), True),\n",
    "                StructField(\"Top25perc\", IntegerType(), True),\n",
    "                StructField(\"F_Undergrad\", IntegerType(), True),\n",
    "                StructField(\"P_Undergrad\", IntegerType(), True),\n",
    "                StructField(\"Outstate\", FloatType(), True),\n",
    "                StructField(\"Room_Board\", FloatType(), True),\n",
    "                StructField(\"Books\", FloatType(), True),\n",
    "                StructField(\"Personal\", FloatType(), True),\n",
    "                StructField(\"PhD\", FloatType(), True),\n",
    "                StructField(\"Terminal\", FloatType(), True),\n",
    "                    \n",
    "                    StructField(\"S_F_Ratio\", FloatType(), True),\n",
    "                    StructField(\"perc_alumni\", FloatType(), True),\n",
    "                    StructField(\"Expend\", FloatType(), True),\n",
    "                    StructField(\"Grad_Rate\", FloatType(), True)]"
   ]
  },
  {
   "cell_type": "code",
   "execution_count": 13,
   "id": "f0313804",
   "metadata": {},
   "outputs": [],
   "source": [
    "final_struct = StructType(fields=data_schema)"
   ]
  },
  {
   "cell_type": "code",
   "execution_count": 14,
   "id": "ce54dc6b",
   "metadata": {},
   "outputs": [],
   "source": [
    "df = spark.read.csv('College.csv',header=True,schema=final_struct)"
   ]
  },
  {
   "cell_type": "code",
   "execution_count": 15,
   "id": "789208c7",
   "metadata": {},
   "outputs": [
    {
     "name": "stdout",
     "output_type": "stream",
     "text": [
      "root\n",
      " |-- University Name: string (nullable = true)\n",
      " |-- Year: integer (nullable = true)\n",
      " |-- Apps: integer (nullable = true)\n",
      " |-- Accept: integer (nullable = true)\n",
      " |-- Enroll: integer (nullable = true)\n",
      " |-- Top10perc: integer (nullable = true)\n",
      " |-- Top25perc: integer (nullable = true)\n",
      " |-- F_Undergrad: integer (nullable = true)\n",
      " |-- P_Undergrad: integer (nullable = true)\n",
      " |-- Outstate: float (nullable = true)\n",
      " |-- Room_Board: float (nullable = true)\n",
      " |-- Books: float (nullable = true)\n",
      " |-- Personal: float (nullable = true)\n",
      " |-- PhD: float (nullable = true)\n",
      " |-- Terminal: float (nullable = true)\n",
      " |-- S_F_Ratio: float (nullable = true)\n",
      " |-- perc_alumni: float (nullable = true)\n",
      " |-- Expend: float (nullable = true)\n",
      " |-- Grad_Rate: float (nullable = true)\n",
      "\n"
     ]
    }
   ],
   "source": [
    "df.printSchema()"
   ]
  },
  {
   "cell_type": "code",
   "execution_count": 16,
   "id": "adb4963a",
   "metadata": {},
   "outputs": [
    {
     "data": {
      "text/plain": [
       "Column<'`University Name`'>"
      ]
     },
     "execution_count": 16,
     "metadata": {},
     "output_type": "execute_result"
    }
   ],
   "source": [
    "df['University Name']"
   ]
  },
  {
   "cell_type": "code",
   "execution_count": 17,
   "id": "d24c5189",
   "metadata": {},
   "outputs": [
    {
     "data": {
      "text/plain": [
       "pyspark.sql.classic.column.Column"
      ]
     },
     "execution_count": 17,
     "metadata": {},
     "output_type": "execute_result"
    }
   ],
   "source": [
    "type(df['University Name'])"
   ]
  },
  {
   "cell_type": "code",
   "execution_count": 18,
   "id": "351fb98f",
   "metadata": {},
   "outputs": [
    {
     "data": {
      "text/plain": [
       "DataFrame[University Name: string]"
      ]
     },
     "execution_count": 18,
     "metadata": {},
     "output_type": "execute_result"
    }
   ],
   "source": [
    "df.select('University Name')"
   ]
  },
  {
   "cell_type": "code",
   "execution_count": 19,
   "id": "f6a0312b",
   "metadata": {},
   "outputs": [
    {
     "name": "stdout",
     "output_type": "stream",
     "text": [
      "+--------------------+\n",
      "|     University Name|\n",
      "+--------------------+\n",
      "|Abilene Christian...|\n",
      "|  Adelphi University|\n",
      "|      Adrian College|\n",
      "| Agnes Scott College|\n",
      "|Alaska Pacific Un...|\n",
      "|   Albertson College|\n",
      "|Albertus Magnus C...|\n",
      "|      Albion College|\n",
      "|    Albright College|\n",
      "|Alderson-Broaddus...|\n",
      "|   Alfred University|\n",
      "|   Allegheny College|\n",
      "|Allentown Coll. o...|\n",
      "|        Alma College|\n",
      "|     Alverno College|\n",
      "|American Internat...|\n",
      "|     Amherst College|\n",
      "| Anderson University|\n",
      "|  Andrews University|\n",
      "|Angelo State Univ...|\n",
      "+--------------------+\n",
      "only showing top 20 rows\n"
     ]
    }
   ],
   "source": [
    "df.select('University Name').show()"
   ]
  },
  {
   "cell_type": "code",
   "execution_count": 20,
   "id": "5e653351",
   "metadata": {},
   "outputs": [
    {
     "data": {
      "text/plain": [
       "pyspark.sql.classic.dataframe.DataFrame"
      ]
     },
     "execution_count": 20,
     "metadata": {},
     "output_type": "execute_result"
    }
   ],
   "source": [
    "type(df.select('University Name'))"
   ]
  },
  {
   "cell_type": "code",
   "execution_count": 21,
   "id": "e83d33c5",
   "metadata": {},
   "outputs": [
    {
     "data": {
      "text/plain": [
       "[Row(University Name='Abilene Christian University', Year=None, Apps=1660, Accept=1232, Enroll=721, Top10perc=23, Top25perc=52, F_Undergrad=2885, P_Undergrad=537, Outstate=7440.0, Room_Board=3300.0, Books=450.0, Personal=2200.0, PhD=70.0, Terminal=78.0, S_F_Ratio=18.100000381469727, perc_alumni=12.0, Expend=7041.0, Grad_Rate=60.0),\n",
       " Row(University Name='Adelphi University', Year=None, Apps=2186, Accept=1924, Enroll=512, Top10perc=16, Top25perc=29, F_Undergrad=2683, P_Undergrad=1227, Outstate=12280.0, Room_Board=6450.0, Books=750.0, Personal=1500.0, PhD=29.0, Terminal=30.0, S_F_Ratio=12.199999809265137, perc_alumni=16.0, Expend=10527.0, Grad_Rate=56.0)]"
      ]
     },
     "execution_count": 21,
     "metadata": {},
     "output_type": "execute_result"
    }
   ],
   "source": [
    "df.head(2)"
   ]
  },
  {
   "cell_type": "code",
   "execution_count": 22,
   "id": "5504db81",
   "metadata": {},
   "outputs": [
    {
     "data": {
      "text/plain": [
       "pyspark.sql.types.Row"
      ]
     },
     "execution_count": 22,
     "metadata": {},
     "output_type": "execute_result"
    }
   ],
   "source": [
    "type(df.head(2)[0])"
   ]
  },
  {
   "cell_type": "code",
   "execution_count": 25,
   "id": "d0a4e615",
   "metadata": {},
   "outputs": [
    {
     "data": {
      "text/plain": [
       "DataFrame[University Name: string, Year: int]"
      ]
     },
     "execution_count": 25,
     "metadata": {},
     "output_type": "execute_result"
    }
   ],
   "source": [
    "df.select('University Name', 'Year')"
   ]
  },
  {
   "cell_type": "code",
   "execution_count": 26,
   "id": "071c9250",
   "metadata": {},
   "outputs": [
    {
     "data": {
      "text/plain": [
       "[Row(University Name='Abilene Christian University', Year=None),\n",
       " Row(University Name='Adelphi University', Year=None),\n",
       " Row(University Name='Adrian College', Year=None),\n",
       " Row(University Name='Agnes Scott College', Year=None),\n",
       " Row(University Name='Alaska Pacific University', Year=None)]"
      ]
     },
     "execution_count": 26,
     "metadata": {},
     "output_type": "execute_result"
    }
   ],
   "source": [
    "df.select('University Name', 'Year').head(5)"
   ]
  },
  {
   "cell_type": "code",
   "execution_count": 27,
   "id": "375c39de",
   "metadata": {},
   "outputs": [
    {
     "name": "stdout",
     "output_type": "stream",
     "text": [
      "+--------------------+----+\n",
      "|     University Name|Year|\n",
      "+--------------------+----+\n",
      "|Abilene Christian...|NULL|\n",
      "|  Adelphi University|NULL|\n",
      "|      Adrian College|NULL|\n",
      "+--------------------+----+\n",
      "only showing top 3 rows\n"
     ]
    }
   ],
   "source": [
    "df.select('University Name', 'Year').show(3)"
   ]
  },
  {
   "cell_type": "code",
   "execution_count": 28,
   "id": "f53b8709",
   "metadata": {},
   "outputs": [
    {
     "name": "stdout",
     "output_type": "stream",
     "text": [
      "+--------------------+----+----+------+------+---------+---------+-----------+-----------+--------+----------+-----+--------+----+--------+---------+-----------+-------+---------+--------------+\n",
      "|     University Name|Year|Apps|Accept|Enroll|Top10perc|Top25perc|F_Undergrad|P_Undergrad|Outstate|Room_Board|Books|Personal| PhD|Terminal|S_F_Ratio|perc_alumni| Expend|Grad_Rate|New_app_enroll|\n",
      "+--------------------+----+----+------+------+---------+---------+-----------+-----------+--------+----------+-----+--------+----+--------+---------+-----------+-------+---------+--------------+\n",
      "|Abilene Christian...|NULL|1660|  1232|   721|       23|       52|       2885|        537|  7440.0|    3300.0|450.0|  2200.0|70.0|    78.0|     18.1|       12.0| 7041.0|     60.0|          2381|\n",
      "|  Adelphi University|NULL|2186|  1924|   512|       16|       29|       2683|       1227| 12280.0|    6450.0|750.0|  1500.0|29.0|    30.0|     12.2|       16.0|10527.0|     56.0|          2698|\n",
      "|      Adrian College|NULL|1428|  1097|   336|       22|       50|       1036|         99| 11250.0|    3750.0|400.0|  1165.0|53.0|    66.0|     12.9|       30.0| 8735.0|     54.0|          1764|\n",
      "| Agnes Scott College|NULL| 417|   349|   137|       60|       89|        510|         63| 12960.0|    5450.0|450.0|   875.0|92.0|    97.0|      7.7|       37.0|19016.0|     59.0|           554|\n",
      "|Alaska Pacific Un...|NULL| 193|   146|    55|       16|       44|        249|        869|  7560.0|    4120.0|800.0|  1500.0|76.0|    72.0|     11.9|        2.0|10922.0|     15.0|           248|\n",
      "+--------------------+----+----+------+------+---------+---------+-----------+-----------+--------+----------+-----+--------+----+--------+---------+-----------+-------+---------+--------------+\n",
      "only showing top 5 rows\n"
     ]
    }
   ],
   "source": [
    "df.withColumn('New_app_enroll', df['Apps'] + df['Enroll']).show(5)"
   ]
  },
  {
   "cell_type": "code",
   "execution_count": 29,
   "id": "2bd60eb1",
   "metadata": {},
   "outputs": [
    {
     "name": "stdout",
     "output_type": "stream",
     "text": [
      "+--------------------+----+----+------+------+---------+---------+-----------+-----------+--------+----------+-----+--------+----+--------+---------+-----------+-------+---------+\n",
      "|     University Name|Year|Apps|Accept|Enroll|Top10perc|Top25perc|F_Undergrad|P_Undergrad|Outstate|Room_Board|Books|Personal| PhD|Terminal|S_F_Ratio|perc_alumni| Expend|Grad_Rate|\n",
      "+--------------------+----+----+------+------+---------+---------+-----------+-----------+--------+----------+-----+--------+----+--------+---------+-----------+-------+---------+\n",
      "|Abilene Christian...|NULL|1660|  1232|   721|       23|       52|       2885|        537|  7440.0|    3300.0|450.0|  2200.0|70.0|    78.0|     18.1|       12.0| 7041.0|     60.0|\n",
      "|  Adelphi University|NULL|2186|  1924|   512|       16|       29|       2683|       1227| 12280.0|    6450.0|750.0|  1500.0|29.0|    30.0|     12.2|       16.0|10527.0|     56.0|\n",
      "+--------------------+----+----+------+------+---------+---------+-----------+-----------+--------+----------+-----+--------+----+--------+---------+-----------+-------+---------+\n",
      "only showing top 2 rows\n"
     ]
    }
   ],
   "source": [
    "df.show(2)#The column is not permanent. For this, we need to save it to a variable."
   ]
  },
  {
   "cell_type": "code",
   "execution_count": 31,
   "id": "f25b72d7",
   "metadata": {},
   "outputs": [
    {
     "name": "stdout",
     "output_type": "stream",
     "text": [
      "+--------------------+----+---------------+------+------+---------+---------+-----------+-----------+--------+----------+-----+--------+----+--------+---------+-----------+------+---------+\n",
      "|     University Name|Year|New_Apps_Enroll|Accept|Enroll|Top10perc|Top25perc|F_Undergrad|P_Undergrad|Outstate|Room_Board|Books|Personal| PhD|Terminal|S_F_Ratio|perc_alumni|Expend|Grad_Rate|\n",
      "+--------------------+----+---------------+------+------+---------+---------+-----------+-----------+--------+----------+-----+--------+----+--------+---------+-----------+------+---------+\n",
      "|Abilene Christian...|NULL|           1660|  1232|   721|       23|       52|       2885|        537|  7440.0|    3300.0|450.0|  2200.0|70.0|    78.0|     18.1|       12.0|7041.0|     60.0|\n",
      "+--------------------+----+---------------+------+------+---------+---------+-----------+-----------+--------+----------+-----+--------+----+--------+---------+-----------+------+---------+\n",
      "only showing top 1 row\n"
     ]
    }
   ],
   "source": [
    "df.withColumnRenamed('Apps', 'New_Apps_Enroll').show(1)"
   ]
  },
  {
   "cell_type": "code",
   "execution_count": null,
   "id": "f3e831d4",
   "metadata": {},
   "outputs": [],
   "source": [
    "df.createOrReplaceTempView(\"college\")#we saved it as a SQL temporary view"
   ]
  },
  {
   "cell_type": "code",
   "execution_count": 33,
   "id": "21eb50e1",
   "metadata": {},
   "outputs": [],
   "source": [
    "results = spark.sql(\"select * from college\")"
   ]
  },
  {
   "cell_type": "code",
   "execution_count": 39,
   "id": "2d8a03a3",
   "metadata": {},
   "outputs": [
    {
     "name": "stdout",
     "output_type": "stream",
     "text": [
      "+--------------------+----+----+------+------+---------+---------+-----------+-----------+--------+----------+-----+--------+----+--------+---------+-----------+------+---------+\n",
      "|     University Name|Year|Apps|Accept|Enroll|Top10perc|Top25perc|F_Undergrad|P_Undergrad|Outstate|Room_Board|Books|Personal| PhD|Terminal|S_F_Ratio|perc_alumni|Expend|Grad_Rate|\n",
      "+--------------------+----+----+------+------+---------+---------+-----------+-----------+--------+----------+-----+--------+----+--------+---------+-----------+------+---------+\n",
      "|Abilene Christian...|NULL|1660|  1232|   721|       23|       52|       2885|        537|  7440.0|    3300.0|450.0|  2200.0|70.0|    78.0|     18.1|       12.0|7041.0|     60.0|\n",
      "+--------------------+----+----+------+------+---------+---------+-----------+-----------+--------+----------+-----+--------+----+--------+---------+-----------+------+---------+\n",
      "\n"
     ]
    }
   ],
   "source": [
    "results = spark.sql(\"SELECT * FROM college WHERE Outstate=7440.0\")\n",
    "results.show()"
   ]
  },
  {
   "cell_type": "code",
   "execution_count": null,
   "id": "0611981a",
   "metadata": {},
   "outputs": [],
   "source": []
  }
 ],
 "metadata": {
  "kernelspec": {
   "display_name": "py310",
   "language": "python",
   "name": "python3"
  },
  "language_info": {
   "codemirror_mode": {
    "name": "ipython",
    "version": 3
   },
   "file_extension": ".py",
   "mimetype": "text/x-python",
   "name": "python",
   "nbconvert_exporter": "python",
   "pygments_lexer": "ipython3",
   "version": "3.10.18"
  }
 },
 "nbformat": 4,
 "nbformat_minor": 5
}
